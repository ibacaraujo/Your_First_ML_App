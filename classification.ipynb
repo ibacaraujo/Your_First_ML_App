{
 "cells": [
  {
   "cell_type": "code",
   "execution_count": 21,
   "metadata": {
    "collapsed": false,
    "deletable": true,
    "editable": true
   },
   "outputs": [],
   "source": [
    "# dependencies\n",
    "import tensorflow.contrib.learn as learn\n",
    "from sklearn import datasets, metrics"
   ]
  },
  {
   "cell_type": "code",
   "execution_count": 24,
   "metadata": {
    "collapsed": false
   },
   "outputs": [
    {
     "name": "stdout",
     "output_type": "stream",
     "text": [
      "WARNING:tensorflow:float64 is not supported by many models, consider casting to float32.\n"
     ]
    },
    {
     "data": {
      "text/plain": [
       "[_RealValuedColumn(column_name='', dimension=4, default_value=None, dtype=tf.float64, normalizer=None)]"
      ]
     },
     "execution_count": 24,
     "metadata": {},
     "output_type": "execute_result"
    }
   ],
   "source": [
    "# load the data set\n",
    "iris = datasets.load_iris()\n",
    "feature_columns = learn.infer_real_valued_columns_from_input(iris.data)"
   ]
  },
  {
   "cell_type": "code",
   "execution_count": 34,
   "metadata": {
    "collapsed": false
   },
   "outputs": [],
   "source": [
    "# build a linear classifier model and training\n",
    "linear_classifier = learn.LinearClassifier(n_classes=3, feature_columns=feature_columns)\n",
    "linear_classifier.fit(iris.data, iris.target, steps=200, batch_size=32)"
   ]
  },
  {
   "cell_type": "code",
   "execution_count": 36,
   "metadata": {
    "collapsed": false
   },
   "outputs": [],
   "source": [
    "# predict the classes\n",
    "iris_predictions = list(linear_classifier.predict(iris.data, as_iterable=True))"
   ]
  },
  {
   "cell_type": "code",
   "execution_count": 37,
   "metadata": {
    "collapsed": false
   },
   "outputs": [
    {
     "name": "stdout",
     "output_type": "stream",
     "text": [
      "Accuracy of the linear classifier: 0.973333\n"
     ]
    }
   ],
   "source": [
    "# accuracy results\n",
    "score = metrics.accuracy_score(iris.target, iris_predictions)\n",
    "print(\"Accuracy of the linear classifier: %f\" % score)"
   ]
  },
  {
   "cell_type": "code",
   "execution_count": 39,
   "metadata": {
    "collapsed": false
   },
   "outputs": [],
   "source": [
    "# build a deep neural network classifier and training\n",
    "deep_neural_network_classifier = learn.DNNClassifier(hidden_units=[10, 20, 10], n_classes=3, feature_columns=feature_columns)\n",
    "deep_neural_network_classifier.fit(iris.data, iris.target, steps=200, batch_size=32)"
   ]
  },
  {
   "cell_type": "code",
   "execution_count": 41,
   "metadata": {
    "collapsed": false
   },
   "outputs": [],
   "source": [
    "# predict the classes using DNN\n",
    "iris_predictions = list(deep_neural_network_classifier.predict(iris.data, as_iterable=True))"
   ]
  },
  {
   "cell_type": "code",
   "execution_count": null,
   "metadata": {
    "collapsed": true
   },
   "outputs": [],
   "source": [
    "# accuracy results for the DNN cla"
   ]
  }
 ],
 "metadata": {
  "kernelspec": {
   "display_name": "Python 3",
   "language": "python",
   "name": "python3"
  }
 },
 "nbformat": 4,
 "nbformat_minor": 2
}
